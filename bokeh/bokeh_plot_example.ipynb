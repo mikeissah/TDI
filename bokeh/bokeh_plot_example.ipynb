{
 "cells": [
  {
   "cell_type": "code",
   "execution_count": 1,
   "metadata": {},
   "outputs": [
    {
     "data": {
      "text/plain": [
       "'/home/missah/github/TDI/bokeh/language_use.png'"
      ]
     },
     "execution_count": 1,
     "metadata": {},
     "output_type": "execute_result"
    }
   ],
   "source": [
    "from bokeh.io import show, output_file, export_png\n",
    "from bokeh.plotting import figure\n",
    "\n",
    "languages = ('Python', 'C++', 'Java', 'Perl', 'Scala', 'Lisp')\n",
    "usage = [10,8,6,4,2,1]\n",
    "\n",
    "p = figure(x_range=languages, plot_height=250, title=\"Language Usage\", toolbar_location=None, tools=\"\")\n",
    "\n",
    "p.vbar(x=languages, top=usage, width=0.9)\n",
    "\n",
    "p.xgrid.grid_line_color = None\n",
    "p.y_range.start = 0\n",
    "\n",
    "export_png(p, filename=\"language_use.png\")"
   ]
  },
  {
   "cell_type": "code",
   "execution_count": null,
   "metadata": {},
   "outputs": [],
   "source": []
  }
 ],
 "metadata": {
  "kernelspec": {
   "display_name": "Python 3",
   "language": "python",
   "name": "python3"
  },
  "language_info": {
   "codemirror_mode": {
    "name": "ipython",
    "version": 3
   },
   "file_extension": ".py",
   "mimetype": "text/x-python",
   "name": "python",
   "nbconvert_exporter": "python",
   "pygments_lexer": "ipython3",
   "version": "3.7.0"
  }
 },
 "nbformat": 4,
 "nbformat_minor": 2
}
