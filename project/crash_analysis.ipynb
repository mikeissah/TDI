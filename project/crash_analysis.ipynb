{
 "cells": [
  {
   "cell_type": "code",
   "execution_count": 1,
   "metadata": {},
   "outputs": [],
   "source": [
    "# Python Packages Used in Analysis\n",
    "import pandas as pd\n",
    "import numpy as np\n",
    "import scipy as sp\n",
    "\n",
    "# Import libraries for plotting\n",
    "import matplotlib.pyplot as plt\n",
    "%matplotlib inline\n",
    "import seaborn as sns\n",
    "\n",
    "# Hide warnings\n",
    "import warnings\n",
    "warnings.filterwarnings('ignore')"
   ]
  },
  {
   "cell_type": "code",
   "execution_count": 2,
   "metadata": {},
   "outputs": [],
   "source": [
    "# This analysis is based on the Motor Vehicle Crashes information in New York state over a 3 year period\n",
    "# (2014, 2015, 2016). \n",
    "# The 2 datasets used in the analysis are available at:\n",
    "# https://data.ny.gov/Transportation/Motor-Vehicle-Crashes-Vehicle-Information-Three-Ye/xe9x-a24f\n",
    "# https://data.ny.gov/Transportation/Motor-Vehicle-Crashes-Individual-Information-Three/ir4y-sesj\n",
    "\n",
    "# The final dataset analyzed is obtained by merging the Vehicle Information and Individual information on the \n",
    "# Case Vehicle ID and contains information concerning both vehicle and individual involved in the crash."
   ]
  },
  {
   "cell_type": "markdown",
   "metadata": {},
   "source": [
    "### Questions that can be answered by the data analysis"
   ]
  },
  {
   "cell_type": "code",
   "execution_count": 3,
   "metadata": {},
   "outputs": [],
   "source": [
    "# Questions to answer:\n",
    "# 1. Does the number of occupants in the vehicle have an effect on the number of collisions ?\n",
    "# 2. Do older vehicles cause more crashes and how does the rate compare to newer ones ?\n",
    "# 2. What Action Prior to Accident leads to the most collisions and at what rate ?\n",
    "# 4. Do pickup trucks cause more collisions ?"
   ]
  },
  {
   "cell_type": "markdown",
   "metadata": {},
   "source": [
    "### Read the Vehicle Crash Information data into a pandas dataframe"
   ]
  },
  {
   "cell_type": "code",
   "execution_count": 4,
   "metadata": {},
   "outputs": [
    {
     "data": {
      "text/plain": [
       "(1654482, 19)"
      ]
     },
     "execution_count": 4,
     "metadata": {},
     "output_type": "execute_result"
    }
   ],
   "source": [
    "dfv = pd.read_csv('./data/Motor_Vehicle_Crashes_-_Vehicle_Information__Three_Year_Window.csv')\n",
    "dfv.shape"
   ]
  },
  {
   "cell_type": "code",
   "execution_count": 7,
   "metadata": {
    "scrolled": true
   },
   "outputs": [
    {
     "data": {
      "text/plain": [
       "['Year',\n",
       " 'Case Vehicle ID',\n",
       " 'Vehicle Body Type',\n",
       " 'Registration Class',\n",
       " 'Action Prior to Accident',\n",
       " 'Type / Axles of Truck or Bus',\n",
       " 'Direction of Travel',\n",
       " 'Fuel Type',\n",
       " 'Vehicle Year',\n",
       " 'State of Registration',\n",
       " 'Number of Occupants',\n",
       " 'Engine Cylinders',\n",
       " 'Vehicle Make',\n",
       " 'Contributing Factor 1',\n",
       " 'Contributing Factor 1 Description',\n",
       " 'Contributing Factor 2',\n",
       " 'Contributing Factor 2 Description',\n",
       " 'Event Type',\n",
       " 'Partial VIN']"
      ]
     },
     "execution_count": 7,
     "metadata": {},
     "output_type": "execute_result"
    }
   ],
   "source": [
    "#List column values\n",
    "list(dfv.columns.values)"
   ]
  },
  {
   "cell_type": "code",
   "execution_count": 8,
   "metadata": {},
   "outputs": [
    {
     "data": {
      "text/html": [
       "<div>\n",
       "<style scoped>\n",
       "    .dataframe tbody tr th:only-of-type {\n",
       "        vertical-align: middle;\n",
       "    }\n",
       "\n",
       "    .dataframe tbody tr th {\n",
       "        vertical-align: top;\n",
       "    }\n",
       "\n",
       "    .dataframe thead th {\n",
       "        text-align: right;\n",
       "    }\n",
       "</style>\n",
       "<table border=\"1\" class=\"dataframe\">\n",
       "  <thead>\n",
       "    <tr style=\"text-align: right;\">\n",
       "      <th></th>\n",
       "      <th>Year</th>\n",
       "      <th>Case Vehicle ID</th>\n",
       "      <th>Vehicle Body Type</th>\n",
       "      <th>Registration Class</th>\n",
       "      <th>Action Prior to Accident</th>\n",
       "      <th>Type / Axles of Truck or Bus</th>\n",
       "      <th>Direction of Travel</th>\n",
       "      <th>Fuel Type</th>\n",
       "      <th>Vehicle Year</th>\n",
       "      <th>State of Registration</th>\n",
       "      <th>Number of Occupants</th>\n",
       "      <th>Engine Cylinders</th>\n",
       "      <th>Vehicle Make</th>\n",
       "      <th>Contributing Factor 1</th>\n",
       "      <th>Contributing Factor 1 Description</th>\n",
       "      <th>Contributing Factor 2</th>\n",
       "      <th>Contributing Factor 2 Description</th>\n",
       "      <th>Event Type</th>\n",
       "      <th>Partial VIN</th>\n",
       "    </tr>\n",
       "  </thead>\n",
       "  <tbody>\n",
       "    <tr>\n",
       "      <th>0</th>\n",
       "      <td>2016</td>\n",
       "      <td>13364291</td>\n",
       "      <td>SUBURBAN</td>\n",
       "      <td>PASSENGER OR SUBURBAN</td>\n",
       "      <td>Changing Lanes</td>\n",
       "      <td>Not Entered</td>\n",
       "      <td>West</td>\n",
       "      <td>Gas</td>\n",
       "      <td>2012.0</td>\n",
       "      <td>NY</td>\n",
       "      <td>1.0</td>\n",
       "      <td>4.0</td>\n",
       "      <td>MINI</td>\n",
       "      <td>HUMAN</td>\n",
       "      <td>Unsafe Lane Changing</td>\n",
       "      <td>HUMAN</td>\n",
       "      <td>Not Applicable</td>\n",
       "      <td>Not Applicable</td>\n",
       "      <td>WMWZC3C57CWL81108</td>\n",
       "    </tr>\n",
       "    <tr>\n",
       "      <th>1</th>\n",
       "      <td>2016</td>\n",
       "      <td>13364304</td>\n",
       "      <td>PICKUP TRUCK</td>\n",
       "      <td>PASSENGER OR SUBURBAN</td>\n",
       "      <td>Going Straight Ahead</td>\n",
       "      <td>Not Entered</td>\n",
       "      <td>East</td>\n",
       "      <td>Gas</td>\n",
       "      <td>2014.0</td>\n",
       "      <td>NY</td>\n",
       "      <td>2.0</td>\n",
       "      <td>6.0</td>\n",
       "      <td>CHEVR</td>\n",
       "      <td>ENVMT</td>\n",
       "      <td>Pavement Slippery</td>\n",
       "      <td>HUMAN</td>\n",
       "      <td>Not Applicable</td>\n",
       "      <td>Not Applicable</td>\n",
       "      <td>3GCUKREH8EG196335</td>\n",
       "    </tr>\n",
       "    <tr>\n",
       "      <th>2</th>\n",
       "      <td>2016</td>\n",
       "      <td>13364305</td>\n",
       "      <td>4 DOOR SEDAN</td>\n",
       "      <td>PASSENGER OR SUBURBAN</td>\n",
       "      <td>Going Straight Ahead</td>\n",
       "      <td>Not Entered</td>\n",
       "      <td>North</td>\n",
       "      <td>Gas</td>\n",
       "      <td>2007.0</td>\n",
       "      <td>NY</td>\n",
       "      <td>1.0</td>\n",
       "      <td>4.0</td>\n",
       "      <td>HONDA</td>\n",
       "      <td>ENVMT</td>\n",
       "      <td>Pavement Slippery</td>\n",
       "      <td>HUMAN</td>\n",
       "      <td>Not Applicable</td>\n",
       "      <td>Not Applicable</td>\n",
       "      <td>1HGCM56387A220086</td>\n",
       "    </tr>\n",
       "    <tr>\n",
       "      <th>3</th>\n",
       "      <td>2016</td>\n",
       "      <td>13364307</td>\n",
       "      <td>SUBURBAN</td>\n",
       "      <td>PASSENGER OR SUBURBAN</td>\n",
       "      <td>Going Straight Ahead</td>\n",
       "      <td>Not Entered</td>\n",
       "      <td>North</td>\n",
       "      <td>Gas</td>\n",
       "      <td>2011.0</td>\n",
       "      <td>NY</td>\n",
       "      <td>4.0</td>\n",
       "      <td>4.0</td>\n",
       "      <td>CHEVR</td>\n",
       "      <td>ENVMT</td>\n",
       "      <td>Pavement Slippery</td>\n",
       "      <td>ENVMT</td>\n",
       "      <td>Obstruction/ Debris</td>\n",
       "      <td>Unknown</td>\n",
       "      <td>2CNFLCEC1B6362978</td>\n",
       "    </tr>\n",
       "    <tr>\n",
       "      <th>4</th>\n",
       "      <td>2016</td>\n",
       "      <td>13364306</td>\n",
       "      <td>SUBURBAN</td>\n",
       "      <td>PASSENGER OR SUBURBAN</td>\n",
       "      <td>Going Straight Ahead</td>\n",
       "      <td>Not Entered</td>\n",
       "      <td>North</td>\n",
       "      <td>Gas</td>\n",
       "      <td>2004.0</td>\n",
       "      <td>NY</td>\n",
       "      <td>1.0</td>\n",
       "      <td>6.0</td>\n",
       "      <td>BUICK</td>\n",
       "      <td>ENVMT</td>\n",
       "      <td>Pavement Slippery</td>\n",
       "      <td>HUMAN</td>\n",
       "      <td>Not Applicable</td>\n",
       "      <td>Snow Embankment, Collision With Fixed Object</td>\n",
       "      <td>3G5DA03E04S597761</td>\n",
       "    </tr>\n",
       "  </tbody>\n",
       "</table>\n",
       "</div>"
      ],
      "text/plain": [
       "   Year  Case Vehicle ID Vehicle Body Type     Registration Class  \\\n",
       "0  2016         13364291          SUBURBAN  PASSENGER OR SUBURBAN   \n",
       "1  2016         13364304      PICKUP TRUCK  PASSENGER OR SUBURBAN   \n",
       "2  2016         13364305      4 DOOR SEDAN  PASSENGER OR SUBURBAN   \n",
       "3  2016         13364307          SUBURBAN  PASSENGER OR SUBURBAN   \n",
       "4  2016         13364306          SUBURBAN  PASSENGER OR SUBURBAN   \n",
       "\n",
       "  Action Prior to Accident Type / Axles of Truck or Bus Direction of Travel  \\\n",
       "0           Changing Lanes                  Not Entered                West   \n",
       "1     Going Straight Ahead                  Not Entered                East   \n",
       "2     Going Straight Ahead                  Not Entered               North   \n",
       "3     Going Straight Ahead                  Not Entered               North   \n",
       "4     Going Straight Ahead                  Not Entered               North   \n",
       "\n",
       "  Fuel Type  Vehicle Year State of Registration  Number of Occupants  \\\n",
       "0       Gas        2012.0                    NY                  1.0   \n",
       "1       Gas        2014.0                    NY                  2.0   \n",
       "2       Gas        2007.0                    NY                  1.0   \n",
       "3       Gas        2011.0                    NY                  4.0   \n",
       "4       Gas        2004.0                    NY                  1.0   \n",
       "\n",
       "   Engine Cylinders Vehicle Make Contributing Factor 1  \\\n",
       "0               4.0         MINI                 HUMAN   \n",
       "1               6.0        CHEVR                 ENVMT   \n",
       "2               4.0        HONDA                 ENVMT   \n",
       "3               4.0        CHEVR                 ENVMT   \n",
       "4               6.0        BUICK                 ENVMT   \n",
       "\n",
       "  Contributing Factor 1 Description Contributing Factor 2  \\\n",
       "0              Unsafe Lane Changing                 HUMAN   \n",
       "1                 Pavement Slippery                 HUMAN   \n",
       "2                 Pavement Slippery                 HUMAN   \n",
       "3                 Pavement Slippery                 ENVMT   \n",
       "4                 Pavement Slippery                 HUMAN   \n",
       "\n",
       "  Contributing Factor 2 Description  \\\n",
       "0                    Not Applicable   \n",
       "1                    Not Applicable   \n",
       "2                    Not Applicable   \n",
       "3               Obstruction/ Debris   \n",
       "4                    Not Applicable   \n",
       "\n",
       "                                     Event Type        Partial VIN  \n",
       "0                                Not Applicable  WMWZC3C57CWL81108  \n",
       "1                                Not Applicable  3GCUKREH8EG196335  \n",
       "2                                Not Applicable  1HGCM56387A220086  \n",
       "3                                       Unknown  2CNFLCEC1B6362978  \n",
       "4  Snow Embankment, Collision With Fixed Object  3G5DA03E04S597761  "
      ]
     },
     "execution_count": 8,
     "metadata": {},
     "output_type": "execute_result"
    }
   ],
   "source": [
    "dfv.head()"
   ]
  },
  {
   "cell_type": "code",
   "execution_count": 9,
   "metadata": {},
   "outputs": [
    {
     "name": "stdout",
     "output_type": "stream",
     "text": [
      "Year                                      0\n",
      "Case Vehicle ID                           0\n",
      "Vehicle Body Type                         0\n",
      "Registration Class                        0\n",
      "Action Prior to Accident                  0\n",
      "Type / Axles of Truck or Bus              0\n",
      "Direction of Travel                       0\n",
      "Fuel Type                                 0\n",
      "Vehicle Year                         258501\n",
      "State of Registration                135907\n",
      "Number of Occupants                  191761\n",
      "Engine Cylinders                     345805\n",
      "Vehicle Make                         257112\n",
      "Contributing Factor 1                    29\n",
      "Contributing Factor 1 Description        29\n",
      "Contributing Factor 2                    28\n",
      "Contributing Factor 2 Description        28\n",
      "Event Type                            31436\n",
      "Partial VIN                          298095\n",
      "dtype: int64\n"
     ]
    }
   ],
   "source": [
    "#finding the number of null values in each column\n",
    "print(dfv.isnull().sum())"
   ]
  },
  {
   "cell_type": "markdown",
   "metadata": {},
   "source": [
    "### Read the Individual Crash Information data into a pandas dataframe"
   ]
  },
  {
   "cell_type": "code",
   "execution_count": 10,
   "metadata": {},
   "outputs": [
    {
     "data": {
      "text/plain": [
       "(2221172, 15)"
      ]
     },
     "execution_count": 10,
     "metadata": {},
     "output_type": "execute_result"
    }
   ],
   "source": [
    "dfi = pd.read_csv('./data/Motor_Vehicle_Crashes_-_Individual_Information__Three_Year_Window.csv')\n",
    "dfi.shape"
   ]
  },
  {
   "cell_type": "code",
   "execution_count": 11,
   "metadata": {},
   "outputs": [
    {
     "data": {
      "text/plain": [
       "['Year',\n",
       " 'Case Individual ID',\n",
       " 'Case Vehicle ID',\n",
       " 'Victim Status',\n",
       " 'Role Type',\n",
       " 'Seating Position',\n",
       " 'Ejection',\n",
       " 'License State Code',\n",
       " 'Sex',\n",
       " 'Transported By',\n",
       " 'Safety Equipment',\n",
       " 'Injury Descriptor',\n",
       " 'Injury Location',\n",
       " 'Injury Severity',\n",
       " 'Age']"
      ]
     },
     "execution_count": 11,
     "metadata": {},
     "output_type": "execute_result"
    }
   ],
   "source": [
    "#List column values\n",
    "list(dfi.columns.values)"
   ]
  },
  {
   "cell_type": "code",
   "execution_count": 12,
   "metadata": {},
   "outputs": [
    {
     "data": {
      "text/html": [
       "<div>\n",
       "<style scoped>\n",
       "    .dataframe tbody tr th:only-of-type {\n",
       "        vertical-align: middle;\n",
       "    }\n",
       "\n",
       "    .dataframe tbody tr th {\n",
       "        vertical-align: top;\n",
       "    }\n",
       "\n",
       "    .dataframe thead th {\n",
       "        text-align: right;\n",
       "    }\n",
       "</style>\n",
       "<table border=\"1\" class=\"dataframe\">\n",
       "  <thead>\n",
       "    <tr style=\"text-align: right;\">\n",
       "      <th></th>\n",
       "      <th>Year</th>\n",
       "      <th>Case Individual ID</th>\n",
       "      <th>Case Vehicle ID</th>\n",
       "      <th>Victim Status</th>\n",
       "      <th>Role Type</th>\n",
       "      <th>Seating Position</th>\n",
       "      <th>Ejection</th>\n",
       "      <th>License State Code</th>\n",
       "      <th>Sex</th>\n",
       "      <th>Transported By</th>\n",
       "      <th>Safety Equipment</th>\n",
       "      <th>Injury Descriptor</th>\n",
       "      <th>Injury Location</th>\n",
       "      <th>Injury Severity</th>\n",
       "      <th>Age</th>\n",
       "    </tr>\n",
       "  </thead>\n",
       "  <tbody>\n",
       "    <tr>\n",
       "      <th>0</th>\n",
       "      <td>2015</td>\n",
       "      <td>16262988</td>\n",
       "      <td>12466441</td>\n",
       "      <td>Not Applicable</td>\n",
       "      <td>Passenger of a Motor Vehicle in Transport</td>\n",
       "      <td>Passenger - 7 Back Cargo Area</td>\n",
       "      <td>Not Ejected</td>\n",
       "      <td>NaN</td>\n",
       "      <td>F</td>\n",
       "      <td>Not Entered</td>\n",
       "      <td>Lap Belt/Harness</td>\n",
       "      <td>Not Applicable</td>\n",
       "      <td>Not Applicable</td>\n",
       "      <td>Uninjured</td>\n",
       "      <td>10.0</td>\n",
       "    </tr>\n",
       "    <tr>\n",
       "      <th>1</th>\n",
       "      <td>2015</td>\n",
       "      <td>16262994</td>\n",
       "      <td>12466447</td>\n",
       "      <td>Not Applicable</td>\n",
       "      <td>Driver of a Motor Vehicle in Transport</td>\n",
       "      <td>Driver</td>\n",
       "      <td>Not Ejected</td>\n",
       "      <td>NY</td>\n",
       "      <td>F</td>\n",
       "      <td>Not Entered</td>\n",
       "      <td>Lap Belt/Harness</td>\n",
       "      <td>Not Applicable</td>\n",
       "      <td>Not Applicable</td>\n",
       "      <td>Uninjured</td>\n",
       "      <td>33.0</td>\n",
       "    </tr>\n",
       "    <tr>\n",
       "      <th>2</th>\n",
       "      <td>2015</td>\n",
       "      <td>16262996</td>\n",
       "      <td>12466449</td>\n",
       "      <td>Not Applicable</td>\n",
       "      <td>Driver of a Motor Vehicle in Transport</td>\n",
       "      <td>Driver</td>\n",
       "      <td>Not Ejected</td>\n",
       "      <td>NY</td>\n",
       "      <td>F</td>\n",
       "      <td>Not Entered</td>\n",
       "      <td>None</td>\n",
       "      <td>Not Applicable</td>\n",
       "      <td>Not Applicable</td>\n",
       "      <td>Uninjured</td>\n",
       "      <td>30.0</td>\n",
       "    </tr>\n",
       "    <tr>\n",
       "      <th>3</th>\n",
       "      <td>2015</td>\n",
       "      <td>16263010</td>\n",
       "      <td>12466459</td>\n",
       "      <td>Conscious</td>\n",
       "      <td>Driver of a Motor Vehicle in Transport</td>\n",
       "      <td>Driver</td>\n",
       "      <td>Not Ejected</td>\n",
       "      <td>NY</td>\n",
       "      <td>F</td>\n",
       "      <td>Fire Vehicle</td>\n",
       "      <td>Air Bag Deployed/Lap Belt/Harness</td>\n",
       "      <td>Abrasion</td>\n",
       "      <td>Knee-Lower Leg-Foot</td>\n",
       "      <td>Moderate</td>\n",
       "      <td>23.0</td>\n",
       "    </tr>\n",
       "    <tr>\n",
       "      <th>4</th>\n",
       "      <td>2015</td>\n",
       "      <td>16263011</td>\n",
       "      <td>12466460</td>\n",
       "      <td>Conscious</td>\n",
       "      <td>Driver of a Motor Vehicle in Transport</td>\n",
       "      <td>Driver</td>\n",
       "      <td>Not Ejected</td>\n",
       "      <td>NY</td>\n",
       "      <td>M</td>\n",
       "      <td>Fire Vehicle</td>\n",
       "      <td>Lap Belt/Harness</td>\n",
       "      <td>Minor Bleeding</td>\n",
       "      <td>Head</td>\n",
       "      <td>Moderate</td>\n",
       "      <td>62.0</td>\n",
       "    </tr>\n",
       "  </tbody>\n",
       "</table>\n",
       "</div>"
      ],
      "text/plain": [
       "   Year  Case Individual ID  Case Vehicle ID   Victim Status  \\\n",
       "0  2015            16262988         12466441  Not Applicable   \n",
       "1  2015            16262994         12466447  Not Applicable   \n",
       "2  2015            16262996         12466449  Not Applicable   \n",
       "3  2015            16263010         12466459       Conscious   \n",
       "4  2015            16263011         12466460       Conscious   \n",
       "\n",
       "                                   Role Type               Seating Position  \\\n",
       "0  Passenger of a Motor Vehicle in Transport  Passenger - 7 Back Cargo Area   \n",
       "1     Driver of a Motor Vehicle in Transport                         Driver   \n",
       "2     Driver of a Motor Vehicle in Transport                         Driver   \n",
       "3     Driver of a Motor Vehicle in Transport                         Driver   \n",
       "4     Driver of a Motor Vehicle in Transport                         Driver   \n",
       "\n",
       "      Ejection License State Code Sex Transported By  \\\n",
       "0  Not Ejected                NaN   F    Not Entered   \n",
       "1  Not Ejected                 NY   F    Not Entered   \n",
       "2  Not Ejected                 NY   F    Not Entered   \n",
       "3  Not Ejected                 NY   F   Fire Vehicle   \n",
       "4  Not Ejected                 NY   M   Fire Vehicle   \n",
       "\n",
       "                    Safety Equipment Injury Descriptor      Injury Location  \\\n",
       "0                   Lap Belt/Harness    Not Applicable       Not Applicable   \n",
       "1                   Lap Belt/Harness    Not Applicable       Not Applicable   \n",
       "2                               None    Not Applicable       Not Applicable   \n",
       "3  Air Bag Deployed/Lap Belt/Harness          Abrasion  Knee-Lower Leg-Foot   \n",
       "4                   Lap Belt/Harness    Minor Bleeding                 Head   \n",
       "\n",
       "  Injury Severity   Age  \n",
       "0       Uninjured  10.0  \n",
       "1       Uninjured  33.0  \n",
       "2       Uninjured  30.0  \n",
       "3        Moderate  23.0  \n",
       "4        Moderate  62.0  "
      ]
     },
     "execution_count": 12,
     "metadata": {},
     "output_type": "execute_result"
    }
   ],
   "source": [
    "dfi.head()"
   ]
  },
  {
   "cell_type": "markdown",
   "metadata": {},
   "source": [
    "### Merge Vehicle and Individual Crash Information into a single dataframe after dropping any duplicates"
   ]
  },
  {
   "cell_type": "code",
   "execution_count": 13,
   "metadata": {},
   "outputs": [],
   "source": [
    "# Drop duplicates in the Vehicle and Individual input dataframes\n",
    "df1 = dfv.drop_duplicates(subset=['Case Vehicle ID'])\n",
    "df2 = dfi.drop_duplicates(subset=['Case Vehicle ID'])"
   ]
  },
  {
   "cell_type": "code",
   "execution_count": 14,
   "metadata": {},
   "outputs": [],
   "source": [
    "# Merge 2 dataframes\n",
    "df = pd.merge(df1, df2, how='inner', on='Case Vehicle ID')"
   ]
  },
  {
   "cell_type": "code",
   "execution_count": 15,
   "metadata": {},
   "outputs": [
    {
     "data": {
      "text/plain": [
       "(1654468, 33)"
      ]
     },
     "execution_count": 15,
     "metadata": {},
     "output_type": "execute_result"
    }
   ],
   "source": [
    "# Check size of merged dataframe to make sure that it is equal or less than that of the smaller sized data frame\n",
    "df.shape"
   ]
  },
  {
   "cell_type": "code",
   "execution_count": 16,
   "metadata": {},
   "outputs": [
    {
     "name": "stdout",
     "output_type": "stream",
     "text": [
      "             Year_x  Case Vehicle ID  Vehicle Year  Number of Occupants  \\\n",
      "count  1.654468e+06     1.654468e+06  1.395970e+06         1.462707e+06   \n",
      "mean   2.015007e+03     1.303254e+07  2.007727e+03         1.383385e+00   \n",
      "std    8.188829e-01     7.476793e+05  5.708413e+00         1.625354e+00   \n",
      "min    2.014000e+03     1.162350e+07  1.900000e+03         0.000000e+00   \n",
      "25%    2.014000e+03     1.239271e+07  2.004000e+03         1.000000e+00   \n",
      "50%    2.015000e+03     1.303268e+07  2.008000e+03         1.000000e+00   \n",
      "75%    2.016000e+03     1.367828e+07  2.013000e+03         2.000000e+00   \n",
      "max    2.016000e+03     1.486933e+07  2.017000e+03         8.810000e+02   \n",
      "\n",
      "       Engine Cylinders        Year_y  Case Individual ID           Age  \n",
      "count      1.308666e+06  1.654468e+06        1.654468e+06  1.548962e+06  \n",
      "mean       5.291108e+00  2.015007e+03        1.613633e+07  4.188706e+01  \n",
      "std        1.450313e+00  8.188829e-01        3.863628e+06  1.765911e+01  \n",
      "min        0.000000e+00  2.014000e+03        3.273000e+05  0.000000e+00  \n",
      "25%        4.000000e+00  2.014000e+03        1.602825e+07  2.700000e+01  \n",
      "50%        6.000000e+00  2.015000e+03        1.692595e+07  4.000000e+01  \n",
      "75%        6.000000e+00  2.016000e+03        1.783839e+07  5.500000e+01  \n",
      "max        1.600000e+01  2.016000e+03        1.950830e+07  9.500000e+01  \n"
     ]
    }
   ],
   "source": [
    "print(df.describe())"
   ]
  },
  {
   "cell_type": "code",
   "execution_count": 17,
   "metadata": {},
   "outputs": [],
   "source": [
    "# Year_x and Year_y are created due to their presence in both input dataframes. \n",
    "# Keep only one column by deleting the Year_y colum and renaming Year_x to Year\n",
    "df.drop('Year_y', axis=1, inplace=True)\n",
    "df = df.rename(columns={'Year_x': 'Year'})"
   ]
  },
  {
   "cell_type": "code",
   "execution_count": 18,
   "metadata": {},
   "outputs": [
    {
     "name": "stdout",
     "output_type": "stream",
     "text": [
      "Year                                      0\n",
      "Case Vehicle ID                           0\n",
      "Vehicle Body Type                         0\n",
      "Registration Class                        0\n",
      "Action Prior to Accident                  0\n",
      "Type / Axles of Truck or Bus              0\n",
      "Direction of Travel                       0\n",
      "Fuel Type                                 0\n",
      "Vehicle Year                         258498\n",
      "State of Registration                135907\n",
      "Number of Occupants                  191761\n",
      "Engine Cylinders                     345802\n",
      "Vehicle Make                         257109\n",
      "Contributing Factor 1                    29\n",
      "Contributing Factor 1 Description        29\n",
      "Contributing Factor 2                    28\n",
      "Contributing Factor 2 Description        28\n",
      "Event Type                            31436\n",
      "Partial VIN                          298092\n",
      "Case Individual ID                        0\n",
      "Victim Status                         88189\n",
      "Role Type                                 0\n",
      "Seating Position                          0\n",
      "Ejection                              88189\n",
      "License State Code                   231407\n",
      "Sex                                   28420\n",
      "Transported By                       189491\n",
      "Safety Equipment                     189491\n",
      "Injury Descriptor                    189491\n",
      "Injury Location                      189491\n",
      "Injury Severity                           0\n",
      "Age                                  105506\n",
      "dtype: int64\n"
     ]
    }
   ],
   "source": [
    "# Number of null values in each column\n",
    "print(df.isnull().sum())"
   ]
  },
  {
   "cell_type": "code",
   "execution_count": 19,
   "metadata": {},
   "outputs": [],
   "source": [
    "# The number of null values is at most 20% of all entries across columns. We can impute them and keep all columns."
   ]
  },
  {
   "cell_type": "code",
   "execution_count": 40,
   "metadata": {},
   "outputs": [],
   "source": [
    "meanAge = np.mean(df.Age)\n",
    "df.Age = df.Age.fillna(meanAge)"
   ]
  },
  {
   "cell_type": "code",
   "execution_count": 20,
   "metadata": {},
   "outputs": [
    {
     "data": {
      "text/plain": [
       "Year                                   int64\n",
       "Case Vehicle ID                        int64\n",
       "Vehicle Body Type                     object\n",
       "Registration Class                    object\n",
       "Action Prior to Accident              object\n",
       "Type / Axles of Truck or Bus          object\n",
       "Direction of Travel                   object\n",
       "Fuel Type                             object\n",
       "Vehicle Year                         float64\n",
       "State of Registration                 object\n",
       "Number of Occupants                  float64\n",
       "Engine Cylinders                     float64\n",
       "Vehicle Make                          object\n",
       "Contributing Factor 1                 object\n",
       "Contributing Factor 1 Description     object\n",
       "Contributing Factor 2                 object\n",
       "Contributing Factor 2 Description     object\n",
       "Event Type                            object\n",
       "Partial VIN                           object\n",
       "Case Individual ID                     int64\n",
       "Victim Status                         object\n",
       "Role Type                             object\n",
       "Seating Position                      object\n",
       "Ejection                              object\n",
       "License State Code                    object\n",
       "Sex                                   object\n",
       "Transported By                        object\n",
       "Safety Equipment                      object\n",
       "Injury Descriptor                     object\n",
       "Injury Location                       object\n",
       "Injury Severity                       object\n",
       "Age                                  float64\n",
       "dtype: object"
      ]
     },
     "execution_count": 20,
     "metadata": {},
     "output_type": "execute_result"
    }
   ],
   "source": [
    "#List data types \n",
    "df.dtypes"
   ]
  },
  {
   "cell_type": "code",
   "execution_count": 21,
   "metadata": {},
   "outputs": [
    {
     "data": {
      "text/plain": [
       "Lap Belt/Harness                           1037867\n",
       "Unknown                                     135276\n",
       "Air Bag Deployed/Lap Belt/Harness            69218\n",
       "Lap Belt                                     55135\n",
       "Not Applicable                               50026\n",
       "Not Entered                                  28324\n",
       "None                                         27367\n",
       "Harness                                      23094\n",
       "Helmet (motorcycle only)                     11704\n",
       "Child Restraint Only                          7701\n",
       "Air Bag Deployed                              7193\n",
       "Air Bag Deployed/Lap Belt                     4921\n",
       "Air Bag Deployed/Harness                      3024\n",
       "In-line Skates Bicyclist(Helmet Only)         2857\n",
       "Other*                                         677\n",
       "In-line Skates Bicyclist(Helmet/Other)         318\n",
       "Air Bag Deployed/Child Restraint               180\n",
       "In-line Skates Bicyclist(Stoppers Only)         84\n",
       "In-line Skates Bicyclist(Pads Only)             11\n",
       "Name: Safety Equipment, dtype: int64"
      ]
     },
     "execution_count": 21,
     "metadata": {},
     "output_type": "execute_result"
    }
   ],
   "source": [
    "df['Safety Equipment'].value_counts()"
   ]
  },
  {
   "cell_type": "code",
   "execution_count": 22,
   "metadata": {},
   "outputs": [
    {
     "data": {
      "text/plain": [
       "Not Applicable    677635\n",
       "Not Entered       574096\n",
       "Conscious         290997\n",
       "Unknown             6516\n",
       "Shock               5797\n",
       "Semiconscious       4636\n",
       "Unconscious         2703\n",
       "Incoherent          2379\n",
       "Apparent Death      1520\n",
       "Name: Victim Status, dtype: int64"
      ]
     },
     "execution_count": 22,
     "metadata": {},
     "output_type": "execute_result"
    }
   ],
   "source": [
    "df['Victim Status'].value_counts()"
   ]
  },
  {
   "cell_type": "code",
   "execution_count": 23,
   "metadata": {},
   "outputs": [
    {
     "data": {
      "text/plain": [
       "HUMAN      1557072\n",
       "ENVMT        79760\n",
       "VEHICLE      17607\n",
       "Name: Contributing Factor 1, dtype: int64"
      ]
     },
     "execution_count": 23,
     "metadata": {},
     "output_type": "execute_result"
    }
   ],
   "source": [
    "df['Contributing Factor 1'].value_counts()"
   ]
  },
  {
   "cell_type": "code",
   "execution_count": 24,
   "metadata": {},
   "outputs": [
    {
     "data": {
      "text/plain": [
       "Uninjured                     1293764\n",
       "Minor                          274948\n",
       "Moderate                        45250\n",
       "Severe                          27066\n",
       "Injured with Unkn Severity      10722\n",
       "Killed                           2718\n",
       "Name: Injury Severity, dtype: int64"
      ]
     },
     "execution_count": 24,
     "metadata": {},
     "output_type": "execute_result"
    }
   ],
   "source": [
    "df['Injury Severity'].value_counts()"
   ]
  },
  {
   "cell_type": "code",
   "execution_count": 25,
   "metadata": {},
   "outputs": [
    {
     "data": {
      "text/plain": [
       "Not Applicable          683579\n",
       "Not Entered             466990\n",
       "Neck                     57830\n",
       "Head                     43337\n",
       "Back                     43281\n",
       "Knee-Lower Leg-Foot      36520\n",
       "Elbow-Lower Arm-Hand     27286\n",
       "Entire Body              22545\n",
       "Chest                    21702\n",
       "Shoulder-Upper Arm       18770\n",
       "Unknown                  15318\n",
       "Hip-Upper Leg            10810\n",
       "Face                     10339\n",
       "Abdomen-Pelvis            6124\n",
       "Eye                        546\n",
       "Name: Injury Location, dtype: int64"
      ]
     },
     "execution_count": 25,
     "metadata": {},
     "output_type": "execute_result"
    }
   ],
   "source": [
    "df['Injury Location'].value_counts()"
   ]
  },
  {
   "cell_type": "code",
   "execution_count": 26,
   "metadata": {},
   "outputs": [
    {
     "data": {
      "text/plain": [
       "23.0    38763\n",
       "24.0    38171\n",
       "22.0    37939\n",
       "25.0    37305\n",
       "21.0    36808\n",
       "26.0    36349\n",
       "20.0    35021\n",
       "27.0    34411\n",
       "19.0    33218\n",
       "28.0    32636\n",
       "29.0    31589\n",
       "18.0    30443\n",
       "30.0    30151\n",
       "31.0    29830\n",
       "32.0    29035\n",
       "51.0    28586\n",
       "33.0    28541\n",
       "50.0    28391\n",
       "52.0    28229\n",
       "53.0    28091\n",
       "49.0    27550\n",
       "34.0    27517\n",
       "54.0    27344\n",
       "45.0    27033\n",
       "46.0    27019\n",
       "48.0    26761\n",
       "55.0    26715\n",
       "44.0    26699\n",
       "47.0    26668\n",
       "35.0    26652\n",
       "        ...  \n",
       "82.0     3955\n",
       "83.0     3678\n",
       "84.0     3416\n",
       "85.0     2991\n",
       "86.0     2678\n",
       "15.0     2593\n",
       "87.0     2373\n",
       "14.0     2243\n",
       "13.0     1964\n",
       "88.0     1955\n",
       "12.0     1756\n",
       "11.0     1642\n",
       "1.0      1606\n",
       "89.0     1556\n",
       "3.0      1487\n",
       "4.0      1474\n",
       "2.0      1459\n",
       "9.0      1421\n",
       "10.0     1404\n",
       "5.0      1340\n",
       "6.0      1337\n",
       "7.0      1330\n",
       "8.0      1323\n",
       "0.0      1254\n",
       "90.0     1184\n",
       "91.0      918\n",
       "92.0      657\n",
       "93.0      469\n",
       "94.0      313\n",
       "95.0      185\n",
       "Name: Age, Length: 96, dtype: int64"
      ]
     },
     "execution_count": 26,
     "metadata": {},
     "output_type": "execute_result"
    }
   ],
   "source": [
    "df['Age'].value_counts()"
   ]
  },
  {
   "cell_type": "code",
   "execution_count": 27,
   "metadata": {},
   "outputs": [
    {
     "data": {
      "text/plain": [
       "Not Ejected          1317478\n",
       "Not Entered           130077\n",
       "Unknown                52583\n",
       "Not Applicable         47929\n",
       "Ejected                14555\n",
       "Partially Ejected       3657\n",
       "Name: Ejection, dtype: int64"
      ]
     },
     "execution_count": 27,
     "metadata": {},
     "output_type": "execute_result"
    }
   ],
   "source": [
    "df['Ejection'].value_counts()"
   ]
  },
  {
   "cell_type": "code",
   "execution_count": 28,
   "metadata": {},
   "outputs": [
    {
     "data": {
      "text/plain": [
       "Driver                           1401783\n",
       "Not Entered                       137244\n",
       "Not Applicable                     45485\n",
       "Passenger - 3 Front Right          40648\n",
       "Passenger - 6 Back Right           11871\n",
       "Passenger - 4 Back Left             7479\n",
       "Unknown Seating Passenger           4335\n",
       "Passenger - 5 Back Middle           2648\n",
       "Passenger - 7 Back Cargo Area       2099\n",
       "Passenger - 2 Front Middle           730\n",
       "Riding/Hanging on Outside             80\n",
       "Unknown Position In Vehicle           66\n",
       "Name: Seating Position, dtype: int64"
      ]
     },
     "execution_count": 28,
     "metadata": {},
     "output_type": "execute_result"
    }
   ],
   "source": [
    "df['Seating Position'].value_counts()"
   ]
  },
  {
   "cell_type": "code",
   "execution_count": 29,
   "metadata": {},
   "outputs": [
    {
     "data": {
      "text/plain": [
       "Going Straight Ahead          771758\n",
       "Stopped in Traffic            133903\n",
       "Making Left Turn              126515\n",
       "Slowing or Stopping           123514\n",
       "Parked                        109623\n",
       "Unknown                       107389\n",
       "Making Right Turn              54130\n",
       "Backing                        51917\n",
       "Not Applicable                 46924\n",
       "Changing Lanes                 36653\n",
       "Starting in Traffic            23124\n",
       "Merging                        12746\n",
       "Overtaking/Passing             11980\n",
       "Other                          10725\n",
       "Starting from Parking          10546\n",
       "Making U Turn                   8326\n",
       "Entering Parked Position        7273\n",
       "Avoiding Object in Roadway      5480\n",
       "Making Right Turn on Red         935\n",
       "Making Left Turn on Red          495\n",
       "Police Pursuit                   489\n",
       "Not Entered                       23\n",
       "Name: Action Prior to Accident, dtype: int64"
      ]
     },
     "execution_count": 29,
     "metadata": {},
     "output_type": "execute_result"
    }
   ],
   "source": [
    "df['Action Prior to Accident'].value_counts()"
   ]
  },
  {
   "cell_type": "code",
   "execution_count": 30,
   "metadata": {},
   "outputs": [
    {
     "data": {
      "text/html": [
       "<div>\n",
       "<style scoped>\n",
       "    .dataframe tbody tr th:only-of-type {\n",
       "        vertical-align: middle;\n",
       "    }\n",
       "\n",
       "    .dataframe tbody tr th {\n",
       "        vertical-align: top;\n",
       "    }\n",
       "\n",
       "    .dataframe thead th {\n",
       "        text-align: right;\n",
       "    }\n",
       "</style>\n",
       "<table border=\"1\" class=\"dataframe\">\n",
       "  <thead>\n",
       "    <tr style=\"text-align: right;\">\n",
       "      <th></th>\n",
       "      <th>Year</th>\n",
       "      <th>Case Vehicle ID</th>\n",
       "      <th>Vehicle Body Type</th>\n",
       "      <th>Registration Class</th>\n",
       "      <th>Action Prior to Accident</th>\n",
       "      <th>Type / Axles of Truck or Bus</th>\n",
       "      <th>Direction of Travel</th>\n",
       "      <th>Fuel Type</th>\n",
       "      <th>Vehicle Year</th>\n",
       "      <th>State of Registration</th>\n",
       "      <th>...</th>\n",
       "      <th>Seating Position</th>\n",
       "      <th>Ejection</th>\n",
       "      <th>License State Code</th>\n",
       "      <th>Sex</th>\n",
       "      <th>Transported By</th>\n",
       "      <th>Safety Equipment</th>\n",
       "      <th>Injury Descriptor</th>\n",
       "      <th>Injury Location</th>\n",
       "      <th>Injury Severity</th>\n",
       "      <th>Age</th>\n",
       "    </tr>\n",
       "  </thead>\n",
       "  <tbody>\n",
       "    <tr>\n",
       "      <th>0</th>\n",
       "      <td>2</td>\n",
       "      <td>1036547</td>\n",
       "      <td>49</td>\n",
       "      <td>48</td>\n",
       "      <td>2</td>\n",
       "      <td>22</td>\n",
       "      <td>10</td>\n",
       "      <td>4</td>\n",
       "      <td>98</td>\n",
       "      <td>49</td>\n",
       "      <td>...</td>\n",
       "      <td>0</td>\n",
       "      <td>2</td>\n",
       "      <td>69</td>\n",
       "      <td>1</td>\n",
       "      <td>6</td>\n",
       "      <td>13</td>\n",
       "      <td>13</td>\n",
       "      <td>11</td>\n",
       "      <td>5</td>\n",
       "      <td>32</td>\n",
       "    </tr>\n",
       "    <tr>\n",
       "      <th>1</th>\n",
       "      <td>2</td>\n",
       "      <td>1036555</td>\n",
       "      <td>35</td>\n",
       "      <td>48</td>\n",
       "      <td>4</td>\n",
       "      <td>22</td>\n",
       "      <td>0</td>\n",
       "      <td>4</td>\n",
       "      <td>100</td>\n",
       "      <td>49</td>\n",
       "      <td>...</td>\n",
       "      <td>0</td>\n",
       "      <td>2</td>\n",
       "      <td>69</td>\n",
       "      <td>0</td>\n",
       "      <td>6</td>\n",
       "      <td>13</td>\n",
       "      <td>13</td>\n",
       "      <td>11</td>\n",
       "      <td>5</td>\n",
       "      <td>44</td>\n",
       "    </tr>\n",
       "    <tr>\n",
       "      <th>2</th>\n",
       "      <td>2</td>\n",
       "      <td>1036556</td>\n",
       "      <td>1</td>\n",
       "      <td>48</td>\n",
       "      <td>4</td>\n",
       "      <td>22</td>\n",
       "      <td>1</td>\n",
       "      <td>4</td>\n",
       "      <td>93</td>\n",
       "      <td>49</td>\n",
       "      <td>...</td>\n",
       "      <td>0</td>\n",
       "      <td>2</td>\n",
       "      <td>69</td>\n",
       "      <td>0</td>\n",
       "      <td>6</td>\n",
       "      <td>13</td>\n",
       "      <td>13</td>\n",
       "      <td>11</td>\n",
       "      <td>5</td>\n",
       "      <td>60</td>\n",
       "    </tr>\n",
       "    <tr>\n",
       "      <th>3</th>\n",
       "      <td>2</td>\n",
       "      <td>1036558</td>\n",
       "      <td>49</td>\n",
       "      <td>48</td>\n",
       "      <td>4</td>\n",
       "      <td>22</td>\n",
       "      <td>1</td>\n",
       "      <td>4</td>\n",
       "      <td>97</td>\n",
       "      <td>49</td>\n",
       "      <td>...</td>\n",
       "      <td>0</td>\n",
       "      <td>2</td>\n",
       "      <td>69</td>\n",
       "      <td>1</td>\n",
       "      <td>6</td>\n",
       "      <td>13</td>\n",
       "      <td>13</td>\n",
       "      <td>11</td>\n",
       "      <td>5</td>\n",
       "      <td>30</td>\n",
       "    </tr>\n",
       "    <tr>\n",
       "      <th>4</th>\n",
       "      <td>2</td>\n",
       "      <td>1036557</td>\n",
       "      <td>49</td>\n",
       "      <td>48</td>\n",
       "      <td>4</td>\n",
       "      <td>22</td>\n",
       "      <td>1</td>\n",
       "      <td>4</td>\n",
       "      <td>90</td>\n",
       "      <td>49</td>\n",
       "      <td>...</td>\n",
       "      <td>0</td>\n",
       "      <td>2</td>\n",
       "      <td>69</td>\n",
       "      <td>1</td>\n",
       "      <td>6</td>\n",
       "      <td>13</td>\n",
       "      <td>13</td>\n",
       "      <td>11</td>\n",
       "      <td>5</td>\n",
       "      <td>18</td>\n",
       "    </tr>\n",
       "  </tbody>\n",
       "</table>\n",
       "<p>5 rows × 32 columns</p>\n",
       "</div>"
      ],
      "text/plain": [
       "   Year  Case Vehicle ID  Vehicle Body Type  Registration Class  \\\n",
       "0     2          1036547                 49                  48   \n",
       "1     2          1036555                 35                  48   \n",
       "2     2          1036556                  1                  48   \n",
       "3     2          1036558                 49                  48   \n",
       "4     2          1036557                 49                  48   \n",
       "\n",
       "   Action Prior to Accident  Type / Axles of Truck or Bus  \\\n",
       "0                         2                            22   \n",
       "1                         4                            22   \n",
       "2                         4                            22   \n",
       "3                         4                            22   \n",
       "4                         4                            22   \n",
       "\n",
       "   Direction of Travel  Fuel Type  Vehicle Year  State of Registration ...   \\\n",
       "0                   10          4            98                     49 ...    \n",
       "1                    0          4           100                     49 ...    \n",
       "2                    1          4            93                     49 ...    \n",
       "3                    1          4            97                     49 ...    \n",
       "4                    1          4            90                     49 ...    \n",
       "\n",
       "   Seating Position  Ejection  License State Code  Sex  Transported By  \\\n",
       "0                 0         2                  69    1               6   \n",
       "1                 0         2                  69    0               6   \n",
       "2                 0         2                  69    0               6   \n",
       "3                 0         2                  69    1               6   \n",
       "4                 0         2                  69    1               6   \n",
       "\n",
       "   Safety Equipment  Injury Descriptor  Injury Location  Injury Severity  Age  \n",
       "0                13                 13               11                5   32  \n",
       "1                13                 13               11                5   44  \n",
       "2                13                 13               11                5   60  \n",
       "3                13                 13               11                5   30  \n",
       "4                13                 13               11                5   18  \n",
       "\n",
       "[5 rows x 32 columns]"
      ]
     },
     "execution_count": 30,
     "metadata": {},
     "output_type": "execute_result"
    }
   ],
   "source": [
    "#Convert categorical features (object) into numeric\n",
    "for i in list(df.columns.values):\n",
    "    df[i] = df[i].astype('category')\n",
    "    df[i] = df[i].cat.codes\n",
    "\n",
    "#Display variables\n",
    "df.head()"
   ]
  },
  {
   "cell_type": "code",
   "execution_count": 31,
   "metadata": {},
   "outputs": [
    {
     "data": {
      "text/plain": [
       "<matplotlib.axes._subplots.AxesSubplot at 0x7f0e1cb0c0b8>"
      ]
     },
     "execution_count": 31,
     "metadata": {},
     "output_type": "execute_result"
    },
    {
     "data": {
      "image/png": "[encoded data removed]",
      "text/plain": [
       "<Figure size 432x288 with 1 Axes>"
      ]
     },
     "metadata": {
      "needs_background": "light"
     },
     "output_type": "display_data"
    }
   ],
   "source": [
    "# Correlation between Safety Equipment and Injury Severity\n",
    "sns.regplot(x=df[\"Safety Equipment\"], y=df[\"Injury Severity\"])"
   ]
  },
  {
   "cell_type": "code",
   "execution_count": null,
   "metadata": {},
   "outputs": [],
   "source": [
    "sns.boxplot(x=\"Safety Equipment\",y=\"Injury Severity\",hue=\"Sex\",data=df, palette=\"coolwarm\")"
   ]
  },
  {
   "cell_type": "code",
   "execution_count": 34,
   "metadata": {},
   "outputs": [
    {
     "data": {
      "text/plain": [
       "<seaborn.axisgrid.PairGrid at 0x7f0e1ad8b0b8>"
      ]
     },
     "execution_count": 34,
     "metadata": {},
     "output_type": "execute_result"
    },
    {
     "data": {
      "image/png": "[encoded data removed]",
      "text/plain": [
       "<Figure size 834.25x720 with 1 Axes>"
      ]
     },
     "metadata": {
      "needs_background": "light"
     },
     "output_type": "display_data"
    }
   ],
   "source": [
    "sns.pairplot(x_vars=\"Direction of Travel\", y_vars=\"Injury Severity\", data=df, hue=\"Contributing Factor 1\", size=10)"
   ]
  },
  {
   "cell_type": "code",
   "execution_count": 39,
   "metadata": {},
   "outputs": [
    {
     "data": {
      "image/png": "[encoded data removed]",
      "text/plain": [
       "<Figure size 1440x1080 with 2 Axes>"
      ]
     },
     "metadata": {
      "needs_background": "light"
     },
     "output_type": "display_data"
    }
   ],
   "source": [
    "plt.subplots(figsize=(20,15))\n",
    "heatmap_plot = sns.heatmap(df.corr())\n",
    "figure = heatmap_plot.get_figure()    \n",
    "figure.savefig('Correlation Heatmap Figure.png', dpi=400)"
   ]
  },
  {
   "cell_type": "code",
   "execution_count": null,
   "metadata": {},
   "outputs": [],
   "source": [
    "# Create groupings of some features for easier study For example\n",
    "\n",
    "# 1. Vehicle age at time of crash: Year - Vehicle Year\n",
    "# 2. No. of occupants : 0, 1, 2, 3, 4, > 4\n",
    "# 3. Age of Individual: 20-25, 25-30, 30-35, 35-40, 40-50, 50-60, 60+ \n",
    "# 4. Safety Equipment: Lap Belt/Harness, Air Bag Deployed, None, Other\n",
    "# 5. Seating Position: Driver, Passenger Front, Passenger Back: (could determine correlation with Injury Severity)\n",
    "# 6. Injury Location: Not Applicable (No Injury), Neck, Back, etc.. (correlation with event type?)\n",
    "# 7. Event Type: collision with vehicle (car, bicycle, motorcycle), collision with fixed object, non-collision"
   ]
  },
  {
   "cell_type": "markdown",
   "metadata": {},
   "source": [
    "### Creating new variable groupings"
   ]
  },
  {
   "cell_type": "code",
   "execution_count": 26,
   "metadata": {},
   "outputs": [],
   "source": [
    "def age(x):\n",
    "    if x < 18:\n",
    "        return '18-'\n",
    "    elif 18 <= x <= 25:\n",
    "        return '18-25'\n",
    "    elif 25 < x <= 30:\n",
    "        return '25-30'\n",
    "    elif 30 < x <= 35:\n",
    "        return '30-35'\n",
    "    elif 35 < x <= 40:\n",
    "        return '35-40'\n",
    "    elif 40 < x <= 50:\n",
    "        return '40-50'\n",
    "    elif 50 < x <= 60:\n",
    "        return '50-60'\n",
    "    elif x > 60:\n",
    "        return '60+'\n",
    "    else:\n",
    "        return 'NaN'\n",
    "\n",
    "df['Age Group'] = df['Age'].apply(age)"
   ]
  },
  {
   "cell_type": "code",
   "execution_count": 27,
   "metadata": {},
   "outputs": [
    {
     "data": {
      "image/png": "[encoded data removed]",
      "text/plain": [
       "<Figure size 1058.4x595.44 with 1 Axes>"
      ]
     },
     "metadata": {},
     "output_type": "display_data"
    }
   ],
   "source": [
    "sns.set(rc={'figure.figsize':(18.7,14.27)})\n",
    "sns.set(font_scale = 1.5)\n",
    "age_group_plot = sns.catplot(x=\"Age Group\", kind=\"count\", height=8.27, aspect=14.7/8.27, palette=\"ch:.25\", data=df)\n",
    "age_group_plot.savefig(\"Age group of individuals in crash.png\")"
   ]
  },
  {
   "cell_type": "code",
   "execution_count": 28,
   "metadata": {},
   "outputs": [],
   "source": [
    "def occupants(x):\n",
    "    if x > 5:\n",
    "        return '> 5'\n",
    "    else:\n",
    "        return x\n",
    "    \n",
    "df['Number of Occupants'] = df['Number of Occupants'].apply(occupants)    "
   ]
  },
  {
   "cell_type": "code",
   "execution_count": 29,
   "metadata": {},
   "outputs": [
    {
     "data": {
      "image/png": "[encoded data removed]",
      "text/plain": [
       "<Figure size 842.4x595.44 with 1 Axes>"
      ]
     },
     "metadata": {},
     "output_type": "display_data"
    }
   ],
   "source": [
    "# Bar plot of number of occupants \n",
    "sns.set(rc={'figure.figsize':(12.7,14.27)})\n",
    "sns.set(font_scale = 1.5)\n",
    "df['Number of Occupants'] = pd.Categorical(df['Number of Occupants'], [0,1,2,3,4,5,'>5'])\n",
    "df = df.sort_values(['Number of Occupants']).reset_index(drop=True)\n",
    "noccupants_plot = sns.catplot(x=\"Number of Occupants\", kind=\"count\", height=8.27, aspect=11.7/8.27, palette=\"Spectral\", data=df);\n",
    "noccupants_plot.savefig(\"Number of Occupants Bar Plot.png\")"
   ]
  },
  {
   "cell_type": "code",
   "execution_count": 30,
   "metadata": {},
   "outputs": [],
   "source": [
    "# Create new column with age of vehicle at time of crash\n",
    "df['Vehicle Age'] = df['Year'] - df['Vehicle Year']"
   ]
  },
  {
   "cell_type": "code",
   "execution_count": 31,
   "metadata": {},
   "outputs": [],
   "source": [
    "# Function to create vehicle age groups\n",
    "def vehicle_age_group(x):\n",
    "    if x <= 10:\n",
    "        return x\n",
    "    elif 10 < x <= 15:\n",
    "        return '10-15'\n",
    "    elif 15 < x <= 20:\n",
    "        return '15-20'\n",
    "    elif x > 20:\n",
    "        return '> 20'\n",
    "    else:\n",
    "        return 'NaN'\n",
    "\n",
    "df['Vehicle Age Group'] = df['Vehicle Age'].apply(vehicle_age_group)"
   ]
  },
  {
   "cell_type": "code",
   "execution_count": 32,
   "metadata": {},
   "outputs": [
    {
     "data": {
      "image/png": "[encoded data removed]",
      "text/plain": [
       "<Figure size 842.4x595.44 with 1 Axes>"
      ]
     },
     "metadata": {},
     "output_type": "display_data"
    }
   ],
   "source": [
    "# Bar plot of vehicle age\n",
    "sns.set(rc={'figure.figsize':(12.7,14.27)})\n",
    "sns.set(font_scale = 1.5)\n",
    "# Order the age groups due to different types in the group items\n",
    "df['Vehicle Age Group'] = pd.Categorical(df['Vehicle Age Group'], [1,2,3,4,5,6,7,8,9,10,'10-15','15-20','>20'])\n",
    "df = df.sort_values(['Vehicle Age Group']).reset_index(drop=True)\n",
    "vehicle_age_plot = sns.catplot(x=\"Vehicle Age Group\", kind=\"count\", height=8.27, aspect=11.7/8.27, palette=\"Blues\", data=df)\n",
    "vehicle_age_plot.savefig(\"Vehicle Age Bar Plot.png\")"
   ]
  },
  {
   "cell_type": "code",
   "execution_count": 33,
   "metadata": {},
   "outputs": [
    {
     "data": {
      "text/plain": [
       "Lap Belt/Harness                           1037867\n",
       "Unknown                                     135276\n",
       "Air Bag Deployed/Lap Belt/Harness            69218\n",
       "Lap Belt                                     55135\n",
       "Not Applicable                               50026\n",
       "Not Entered                                  28324\n",
       "None                                         27367\n",
       "Harness                                      23094\n",
       "Helmet (motorcycle only)                     11704\n",
       "Child Restraint Only                          7701\n",
       "Air Bag Deployed                              7193\n",
       "Air Bag Deployed/Lap Belt                     4921\n",
       "Air Bag Deployed/Harness                      3024\n",
       "In-line Skates Bicyclist(Helmet Only)         2857\n",
       "Other*                                         677\n",
       "In-line Skates Bicyclist(Helmet/Other)         318\n",
       "Air Bag Deployed/Child Restraint               180\n",
       "In-line Skates Bicyclist(Stoppers Only)         84\n",
       "In-line Skates Bicyclist(Pads Only)             11\n",
       "Name: Safety Equipment, dtype: int64"
      ]
     },
     "execution_count": 33,
     "metadata": {},
     "output_type": "execute_result"
    }
   ],
   "source": [
    "df['Safety Equipment'].value_counts()"
   ]
  },
  {
   "cell_type": "code",
   "execution_count": 34,
   "metadata": {},
   "outputs": [],
   "source": [
    "# Function to group the different safety equipments into categories\n",
    "def safety(x):\n",
    "    if (x == 'Air Bag Deployed/Lap Belt/Harness' or x == 'Air Bag Deployed' \n",
    "        or x == 'Air Bag Deployed/Lap Belt' or x == 'Air Bag Deployed/Harness' \n",
    "        or x == 'Air Bag Deployed/Child Restraint'):\n",
    "        return 'Air Bag Deployed'\n",
    "    elif (x == 'Lap Belt/Harness' or x == 'Lap Belt' or x == 'Harness'):\n",
    "        return 'Lap Belt or Harness'\n",
    "    elif (x == 'In-line Skates Bicyclist(Helmet Only)' or x == 'In-line Skates Bicyclist(Helmet/Other)' \n",
    "          or x == 'In-line Skates Bicyclist(Stoppers Only)' or x == 'In-line Skates Bicyclist(Pads Only)'\n",
    "          or x == 'Helmet (motorcycle only)'):\n",
    "        return 'Bicyclist/Motorcycle'\n",
    "    else:\n",
    "        return x\n",
    "\n",
    "df['Safety Equipment'] = df['Safety Equipment'].apply(safety)"
   ]
  },
  {
   "cell_type": "code",
   "execution_count": 35,
   "metadata": {},
   "outputs": [
    {
     "data": {
      "image/png": "[encoded data removed]",
      "text/plain": [
       "<Figure size 1130.4x595.44 with 1 Axes>"
      ]
     },
     "metadata": {},
     "output_type": "display_data"
    }
   ],
   "source": [
    "# Barplot of safety equipment used\n",
    "sns.set(rc={'figure.figsize':(15.7,14.27)})\n",
    "sns.set(font_scale = 1.5)\n",
    "#df['Safety Equipment'] = pd.Categorical(df['Vehicle Age Group'], [1,2,3,4,5,6,7,8,9,10,'10-15','15-20','>20'])\n",
    "sns.catplot(x=\"Safety Equipment\", kind=\"count\", height=8.27, aspect=15.7/8.27, palette=\"PuOr\", data=df);"
   ]
  },
  {
   "cell_type": "code",
   "execution_count": 36,
   "metadata": {},
   "outputs": [
    {
     "data": {
      "text/plain": [
       "Going Straight Ahead          771758\n",
       "Stopped in Traffic            133903\n",
       "Making Left Turn              126515\n",
       "Slowing or Stopping           123514\n",
       "Parked                        109623\n",
       "Unknown                       107389\n",
       "Making Right Turn              54130\n",
       "Backing                        51917\n",
       "Not Applicable                 46924\n",
       "Changing Lanes                 36653\n",
       "Starting in Traffic            23124\n",
       "Merging                        12746\n",
       "Overtaking/Passing             11980\n",
       "Other                          10725\n",
       "Starting from Parking          10546\n",
       "Making U Turn                   8326\n",
       "Entering Parked Position        7273\n",
       "Avoiding Object in Roadway      5480\n",
       "Making Right Turn on Red         935\n",
       "Making Left Turn on Red          495\n",
       "Police Pursuit                   489\n",
       "Not Entered                       23\n",
       "Name: Action Prior to Accident, dtype: int64"
      ]
     },
     "execution_count": 36,
     "metadata": {},
     "output_type": "execute_result"
    }
   ],
   "source": [
    "df['Action Prior to Accident'].value_counts()"
   ]
  },
  {
   "cell_type": "code",
   "execution_count": null,
   "metadata": {},
   "outputs": [],
   "source": [
    "# Draw a categorical scatterplot to show each observation\n",
    "#sns.swarmplot(x=\"Age\", y=\"Injury Severity\", hue=\"Contributing Factor 1\", palette=[\"r\", \"c\", \"y\"], data=df)\n",
    "#sns.boxplot(x=\"day\",y=\"total_bill\",hue=\"smoker\",data=t, palette=\"coolwarm\")\n",
    "#sns.pairplot(x_vars=\"Direction of Travel\", y_vars=\"Injury Severity\", data=df, hue=\"Contributing Factor 1\", size=10)"
   ]
  },
  {
   "cell_type": "code",
   "execution_count": null,
   "metadata": {},
   "outputs": [],
   "source": [
    "# Correlation between Safety Equipment and Injury Severity\n",
    "sns.regplot(x=df[\"Safety Equipment\"], y=df[\"Injury Severity\"])"
   ]
  },
  {
   "cell_type": "code",
   "execution_count": null,
   "metadata": {},
   "outputs": [],
   "source": []
  }
 ],
 "metadata": {
  "kernelspec": {
   "display_name": "Python 3",
   "language": "python",
   "name": "python3"
  },
  "language_info": {
   "codemirror_mode": {
    "name": "ipython",
    "version": 3
   },
   "file_extension": ".py",
   "mimetype": "text/x-python",
   "name": "python",
   "nbconvert_exporter": "python",
   "pygments_lexer": "ipython3",
   "version": "3.7.0"
  }
 },
 "nbformat": 4,
 "nbformat_minor": 2
}
